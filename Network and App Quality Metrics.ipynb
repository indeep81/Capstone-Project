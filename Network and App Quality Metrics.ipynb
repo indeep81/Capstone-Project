{
 "cells": [
  {
   "cell_type": "markdown",
   "id": "3502bc9d-360d-48e3-8dc9-279b357dc3ff",
   "metadata": {},
   "source": [
    "1. Introduction\n",
    "\n",
    "This project was developed as the Capstone Project for the UC Berkeley Professional Certificate in Machine Learning and Artificial Intelligence Program. This project explores how ThousandEyes synthetic monitoring data—specifically `ping` and `http` metrics—can help detect early signs of outages or network degradation. The goal is to extract meaningful patterns and correlations from high-resolution time series data.\n",
    "\n",
    "This notebook focuses first on `ping` metrics: packet loss and latency, measured across various virtual agents and test rounds.\n"
   ]
  },
  {
   "cell_type": "markdown",
   "id": "f516a932-53c4-4f4f-ac7f-3e78c93eb7c3",
   "metadata": {},
   "source": [
    "2. Background:\n",
    "In today’s digitally connected world, ensuring consistent network and application performance is vital for business operations and user satisfaction. Companies depend on performance monitoring systems to detect issues that may affect availability, latency, or user experience. However, current monitoring practices are often reactive—detecting issues only after user impact is noticeable. With the increasing complexity of distributed systems, identifying early signs of outages or systemic degradation is becoming increasingly difficult using traditional monitoring methods.\n",
    "\n",
    "Current monitoring strategies at companies like ThousandEyes rely on collecting a wide range of network and application metrics such as packet loss, latency, and HTTP response time. However, these signals are often examined in isolation, without a structured approach to correlate them or derive predictive insights. As a result, outages are often detected reactively rather than proactively.\n",
    "\n",
    "This project focuses on analyzing anonymized, high-resolution internal test data for Ping and HTTP metrics related to Spotify, a major digital platform that experienced a recent outage. The data comes from ThousandEyes synthetic tests, which simulate user behavior to monitor network and application health in real time. A recent Spotify outage highlighted the challenge of quickly diagnosing whether an issue is network-related, application-based, or global. By studying internal ThousandEyes data corresponding to such incidents, we aim to investigate if machine learning or statistical techniques can uncover predictive indicators of impending failures."
   ]
  },
  {
   "cell_type": "markdown",
   "id": "436b536f-0ca8-4b4a-84fe-95b1fcf48734",
   "metadata": {},
   "source": [
    "Capstone Research Question\n",
    "Can internal ThousandEyes synthetic test data (e.g., packet loss, latency, HTTP response time) be used to detect early warning signals, identify anomalies, and improve the detection of outages through correlation and predictive modeling?"
   ]
  },
  {
   "cell_type": "markdown",
   "id": "6c1f0523-70de-4035-9633-545061703e95",
   "metadata": {},
   "source": [
    "3. Data Loading and Preprocessing\n",
    "Goal: Load the raw ThousandEyes test data (Ping and HTTP), inspect its structure, parse timestamps, and clean it for analysis."
   ]
  },
  {
   "cell_type": "markdown",
   "id": "7ea77c52-0173-4ef7-9c48-2fc5d7e2b222",
   "metadata": {},
   "source": [
    "1. Import the relevant python libraries for the analysis"
   ]
  },
  {
   "cell_type": "code",
   "execution_count": 80,
   "id": "7b8b4f90-388a-4fed-9572-66bf8bb7976e",
   "metadata": {},
   "outputs": [],
   "source": [
    "import os\n",
    "import pandas as pd\n",
    "import numpy as np\n",
    "import matplotlib.pyplot as plt\n",
    "import seaborn as sns\n",
    "\n",
    "sns.set(style=\"whitegrid\")"
   ]
  },
  {
   "cell_type": "markdown",
   "id": "4dce1652-9284-4f64-b50f-bae75fb9403c",
   "metadata": {},
   "source": [
    "2. Load the Ping dataset"
   ]
  },
  {
   "cell_type": "code",
   "execution_count": 82,
   "id": "d5e94b11-6ba8-4c09-a0bf-a324aebd5e63",
   "metadata": {},
   "outputs": [],
   "source": [
    "#Load and Preview Ping Data\n",
    "ping_df = pd.read_csv('ping_spotify_3.csv')"
   ]
  },
  {
   "cell_type": "markdown",
   "id": "3ba4f001-2c9e-47c4-b9e8-c592fb8fe4d0",
   "metadata": {},
   "source": [
    "3. Basic Data Understanding. Visually inspect the head of the Ping dataset,Examine the Ping dataset to understand in particular if the data is tidy, shape of the dataset,examine datatypes, examine missing values, unique counts and build a data dictionary dataframe"
   ]
  },
  {
   "cell_type": "markdown",
   "id": "22301303-9915-4f9e-a66e-7867d5d0bb69",
   "metadata": {},
   "source": [
    "Conditions to check if **data is tidy**\n",
    "\n",
    "Is every column a variable?\n",
    "Is every row an observation?\n",
    "Is every table a single observational unit?"
   ]
  },
  {
   "cell_type": "code",
   "execution_count": 84,
   "id": "6086cb84-8032-4b47-8c40-12267861ddb2",
   "metadata": {},
   "outputs": [
    {
     "data": {
      "text/html": [
       "<div>\n",
       "<style scoped>\n",
       "    .dataframe tbody tr th:only-of-type {\n",
       "        vertical-align: middle;\n",
       "    }\n",
       "\n",
       "    .dataframe tbody tr th {\n",
       "        vertical-align: top;\n",
       "    }\n",
       "\n",
       "    .dataframe thead th {\n",
       "        text-align: right;\n",
       "    }\n",
       "</style>\n",
       "<table border=\"1\" class=\"dataframe\">\n",
       "  <thead>\n",
       "    <tr style=\"text-align: right;\">\n",
       "      <th></th>\n",
       "      <th>roundId</th>\n",
       "      <th>vAgentId</th>\n",
       "      <th>testId</th>\n",
       "      <th>loss</th>\n",
       "      <th>latency</th>\n",
       "    </tr>\n",
       "  </thead>\n",
       "  <tbody>\n",
       "    <tr>\n",
       "      <th>count</th>\n",
       "      <td>1.728090e+05</td>\n",
       "      <td>172809.000000</td>\n",
       "      <td>1.728090e+05</td>\n",
       "      <td>171360.000000</td>\n",
       "      <td>171044.000000</td>\n",
       "    </tr>\n",
       "    <tr>\n",
       "      <th>mean</th>\n",
       "      <td>1.744545e+09</td>\n",
       "      <td>40114.777679</td>\n",
       "      <td>3.212237e+06</td>\n",
       "      <td>0.383012</td>\n",
       "      <td>33.226454</td>\n",
       "    </tr>\n",
       "    <tr>\n",
       "      <th>std</th>\n",
       "      <td>1.247110e+05</td>\n",
       "      <td>113368.594999</td>\n",
       "      <td>9.366758e+00</td>\n",
       "      <td>5.375218</td>\n",
       "      <td>60.346188</td>\n",
       "    </tr>\n",
       "    <tr>\n",
       "      <th>min</th>\n",
       "      <td>1.744330e+09</td>\n",
       "      <td>3.000000</td>\n",
       "      <td>3.212221e+06</td>\n",
       "      <td>0.000000</td>\n",
       "      <td>0.000000</td>\n",
       "    </tr>\n",
       "    <tr>\n",
       "      <th>25%</th>\n",
       "      <td>1.744438e+09</td>\n",
       "      <td>34.000000</td>\n",
       "      <td>3.212229e+06</td>\n",
       "      <td>0.000000</td>\n",
       "      <td>0.967742</td>\n",
       "    </tr>\n",
       "    <tr>\n",
       "      <th>50%</th>\n",
       "      <td>1.744546e+09</td>\n",
       "      <td>273.000000</td>\n",
       "      <td>3.212239e+06</td>\n",
       "      <td>0.000000</td>\n",
       "      <td>4.771780</td>\n",
       "    </tr>\n",
       "    <tr>\n",
       "      <th>75%</th>\n",
       "      <td>1.744654e+09</td>\n",
       "      <td>27665.000000</td>\n",
       "      <td>3.212244e+06</td>\n",
       "      <td>0.000000</td>\n",
       "      <td>33.304342</td>\n",
       "    </tr>\n",
       "    <tr>\n",
       "      <th>max</th>\n",
       "      <td>1.744761e+09</td>\n",
       "      <td>639001.000000</td>\n",
       "      <td>3.212247e+06</td>\n",
       "      <td>100.000000</td>\n",
       "      <td>362.674957</td>\n",
       "    </tr>\n",
       "  </tbody>\n",
       "</table>\n",
       "</div>"
      ],
      "text/plain": [
       "            roundId       vAgentId        testId           loss        latency\n",
       "count  1.728090e+05  172809.000000  1.728090e+05  171360.000000  171044.000000\n",
       "mean   1.744545e+09   40114.777679  3.212237e+06       0.383012      33.226454\n",
       "std    1.247110e+05  113368.594999  9.366758e+00       5.375218      60.346188\n",
       "min    1.744330e+09       3.000000  3.212221e+06       0.000000       0.000000\n",
       "25%    1.744438e+09      34.000000  3.212229e+06       0.000000       0.967742\n",
       "50%    1.744546e+09     273.000000  3.212239e+06       0.000000       4.771780\n",
       "75%    1.744654e+09   27665.000000  3.212244e+06       0.000000      33.304342\n",
       "max    1.744761e+09  639001.000000  3.212247e+06     100.000000     362.674957"
      ]
     },
     "execution_count": 84,
     "metadata": {},
     "output_type": "execute_result"
    }
   ],
   "source": [
    "# Summary statistics\n",
    "ping_df.describe()"
   ]
  },
  {
   "cell_type": "code",
   "execution_count": 85,
   "id": "cb84ce5f-b32a-4167-a495-022c141793e1",
   "metadata": {},
   "outputs": [
    {
     "data": {
      "text/html": [
       "<div>\n",
       "<style scoped>\n",
       "    .dataframe tbody tr th:only-of-type {\n",
       "        vertical-align: middle;\n",
       "    }\n",
       "\n",
       "    .dataframe tbody tr th {\n",
       "        vertical-align: top;\n",
       "    }\n",
       "\n",
       "    .dataframe thead th {\n",
       "        text-align: right;\n",
       "    }\n",
       "</style>\n",
       "<table border=\"1\" class=\"dataframe\">\n",
       "  <thead>\n",
       "    <tr style=\"text-align: right;\">\n",
       "      <th></th>\n",
       "      <th>roundId</th>\n",
       "      <th>vAgentId</th>\n",
       "      <th>testId</th>\n",
       "      <th>loss</th>\n",
       "      <th>latency</th>\n",
       "    </tr>\n",
       "  </thead>\n",
       "  <tbody>\n",
       "    <tr>\n",
       "      <th>0</th>\n",
       "      <td>1744706700</td>\n",
       "      <td>639001</td>\n",
       "      <td>3212239</td>\n",
       "      <td>NaN</td>\n",
       "      <td>NaN</td>\n",
       "    </tr>\n",
       "    <tr>\n",
       "      <th>1</th>\n",
       "      <td>1744706700</td>\n",
       "      <td>56265</td>\n",
       "      <td>3212239</td>\n",
       "      <td>0.0</td>\n",
       "      <td>149.000000</td>\n",
       "    </tr>\n",
       "    <tr>\n",
       "      <th>2</th>\n",
       "      <td>1744706700</td>\n",
       "      <td>42311</td>\n",
       "      <td>3212239</td>\n",
       "      <td>0.0</td>\n",
       "      <td>20.416666</td>\n",
       "    </tr>\n",
       "    <tr>\n",
       "      <th>3</th>\n",
       "      <td>1744706700</td>\n",
       "      <td>32</td>\n",
       "      <td>3212239</td>\n",
       "      <td>0.0</td>\n",
       "      <td>25.021738</td>\n",
       "    </tr>\n",
       "    <tr>\n",
       "      <th>4</th>\n",
       "      <td>1744706700</td>\n",
       "      <td>73</td>\n",
       "      <td>3212239</td>\n",
       "      <td>0.0</td>\n",
       "      <td>20.021740</td>\n",
       "    </tr>\n",
       "    <tr>\n",
       "      <th>5</th>\n",
       "      <td>1744706700</td>\n",
       "      <td>66222</td>\n",
       "      <td>3212239</td>\n",
       "      <td>0.0</td>\n",
       "      <td>212.065247</td>\n",
       "    </tr>\n",
       "    <tr>\n",
       "      <th>6</th>\n",
       "      <td>1744706700</td>\n",
       "      <td>68</td>\n",
       "      <td>3212239</td>\n",
       "      <td>0.0</td>\n",
       "      <td>91.065224</td>\n",
       "    </tr>\n",
       "    <tr>\n",
       "      <th>7</th>\n",
       "      <td>1744706700</td>\n",
       "      <td>27665</td>\n",
       "      <td>3212239</td>\n",
       "      <td>0.0</td>\n",
       "      <td>241.045486</td>\n",
       "    </tr>\n",
       "    <tr>\n",
       "      <th>8</th>\n",
       "      <td>1744706700</td>\n",
       "      <td>3</td>\n",
       "      <td>3212239</td>\n",
       "      <td>0.0</td>\n",
       "      <td>174.687469</td>\n",
       "    </tr>\n",
       "    <tr>\n",
       "      <th>9</th>\n",
       "      <td>1744706700</td>\n",
       "      <td>39779</td>\n",
       "      <td>3212239</td>\n",
       "      <td>0.0</td>\n",
       "      <td>210.065231</td>\n",
       "    </tr>\n",
       "  </tbody>\n",
       "</table>\n",
       "</div>"
      ],
      "text/plain": [
       "      roundId  vAgentId   testId  loss     latency\n",
       "0  1744706700    639001  3212239   NaN         NaN\n",
       "1  1744706700     56265  3212239   0.0  149.000000\n",
       "2  1744706700     42311  3212239   0.0   20.416666\n",
       "3  1744706700        32  3212239   0.0   25.021738\n",
       "4  1744706700        73  3212239   0.0   20.021740\n",
       "5  1744706700     66222  3212239   0.0  212.065247\n",
       "6  1744706700        68  3212239   0.0   91.065224\n",
       "7  1744706700     27665  3212239   0.0  241.045486\n",
       "8  1744706700         3  3212239   0.0  174.687469\n",
       "9  1744706700     39779  3212239   0.0  210.065231"
      ]
     },
     "execution_count": 85,
     "metadata": {},
     "output_type": "execute_result"
    }
   ],
   "source": [
    "#inspect the first few rows of the Ping dataset\n",
    "ping_df.head(10)"
   ]
  },
  {
   "cell_type": "markdown",
   "id": "ca281354-8791-4795-bab4-20dbbc165937",
   "metadata": {},
   "source": [
    "The columns with missing data in ping dataset are:loss and latency\n",
    "This is evident from the first row, where both loss and latency have NaN values. The other columns (roundId, vAgentId, and testId) have no missing values."
   ]
  },
  {
   "cell_type": "code",
   "execution_count": 87,
   "id": "cc4a5914-3c93-46e0-acad-bb1585de10e4",
   "metadata": {},
   "outputs": [
    {
     "name": "stdout",
     "output_type": "stream",
     "text": [
      "Rows: 172809 Columns: 5\n"
     ]
    }
   ],
   "source": [
    "# Dataset shape\n",
    "print(\"Rows:\", ping_df.shape[0], \"Columns:\", ping_df.shape[1])"
   ]
  },
  {
   "cell_type": "markdown",
   "id": "36c589bd-7414-4ea5-b649-a4a835ee2da8",
   "metadata": {},
   "source": [
    "By calling the shape attribute of the Ping dataset we can observe that there are 172809 observations and 5 columns\n",
    "in the data set"
   ]
  },
  {
   "cell_type": "code",
   "execution_count": 89,
   "id": "31d6928e-b871-416e-a060-ef48eadd406c",
   "metadata": {
    "scrolled": true
   },
   "outputs": [
    {
     "name": "stdout",
     "output_type": "stream",
     "text": [
      "<class 'pandas.core.frame.DataFrame'>\n",
      "RangeIndex: 172809 entries, 0 to 172808\n",
      "Data columns (total 5 columns):\n",
      " #   Column    Non-Null Count   Dtype  \n",
      "---  ------    --------------   -----  \n",
      " 0   roundId   172809 non-null  int64  \n",
      " 1   vAgentId  172809 non-null  int64  \n",
      " 2   testId    172809 non-null  int64  \n",
      " 3   loss      171360 non-null  float64\n",
      " 4   latency   171044 non-null  float64\n",
      "dtypes: float64(2), int64(3)\n",
      "memory usage: 6.6 MB\n"
     ]
    }
   ],
   "source": [
    "# Data types and nulls\n",
    "ping_df.info()"
   ]
  },
  {
   "cell_type": "markdown",
   "id": "670359e6-b445-4bba-a57b-fa8d893a43a4",
   "metadata": {},
   "source": [
    "Observations: roundId, vAgentId, and testId have no missing values.\n",
    "loss has 1,449 missing values (172,809 - 171,360).\n",
    "latency has 1,765 missing values (172,809 - 171,044).\n",
    "The data types indicate: int64: whole numbers, float64: decimal numbers, typical for measurements like loss and latency. This shows that we have a numeric dataset (no strings or dates). Hence, a clean and analysis-ready dataset."
   ]
  },
  {
   "cell_type": "code",
   "execution_count": 97,
   "id": "3789d926-40d7-4afb-823e-c5c5315e2a74",
   "metadata": {},
   "outputs": [
    {
     "data": {
      "text/plain": [
       "<bound method DataFrame.info of            roundId  vAgentId   testId  loss     latency\n",
       "0       1744706700    639001  3212239   NaN         NaN\n",
       "1       1744706700     56265  3212239   0.0  149.000000\n",
       "2       1744706700     42311  3212239   0.0   20.416666\n",
       "3       1744706700        32  3212239   0.0   25.021738\n",
       "4       1744706700        73  3212239   0.0   20.021740\n",
       "...            ...       ...      ...   ...         ...\n",
       "172804  1744371600      7815  3212247   0.0    0.480000\n",
       "172805  1744371600      7815  3212229   0.0    0.000000\n",
       "172806  1744371600      7815  3212244   0.0    0.461538\n",
       "172807  1744371600      7815  3212239   0.0  195.024384\n",
       "172808  1744371600      7815  3212221   0.0    0.200000\n",
       "\n",
       "[172809 rows x 5 columns]>"
      ]
     },
     "execution_count": 97,
     "metadata": {},
     "output_type": "execute_result"
    }
   ],
   "source": [
    "# Information on the columns\n",
    "ping_df.info"
   ]
  },
  {
   "cell_type": "code",
   "execution_count": 103,
   "id": "ff59324d-4229-4b28-83a3-a730a5e6b8e7",
   "metadata": {},
   "outputs": [
    {
     "data": {
      "text/plain": [
       "roundId      1440\n",
       "vAgentId       38\n",
       "testId          5\n",
       "loss           69\n",
       "latency     34880\n",
       "dtype: int64"
      ]
     },
     "execution_count": 103,
     "metadata": {},
     "output_type": "execute_result"
    }
   ],
   "source": [
    "ping_df.nunique()"
   ]
  },
  {
   "cell_type": "code",
   "execution_count": 18,
   "id": "b4592ac1-7571-4cb4-b588-64073ca11746",
   "metadata": {},
   "outputs": [
    {
     "data": {
      "text/html": [
       "<div>\n",
       "<style scoped>\n",
       "    .dataframe tbody tr th:only-of-type {\n",
       "        vertical-align: middle;\n",
       "    }\n",
       "\n",
       "    .dataframe tbody tr th {\n",
       "        vertical-align: top;\n",
       "    }\n",
       "\n",
       "    .dataframe thead th {\n",
       "        text-align: right;\n",
       "    }\n",
       "</style>\n",
       "<table border=\"1\" class=\"dataframe\">\n",
       "  <thead>\n",
       "    <tr style=\"text-align: right;\">\n",
       "      <th></th>\n",
       "      <th>loss</th>\n",
       "      <th>latency</th>\n",
       "      <th>vAgentId</th>\n",
       "    </tr>\n",
       "  </thead>\n",
       "  <tbody>\n",
       "    <tr>\n",
       "      <th>loss</th>\n",
       "      <td>1.000000</td>\n",
       "      <td>0.050102</td>\n",
       "      <td>-0.007327</td>\n",
       "    </tr>\n",
       "    <tr>\n",
       "      <th>latency</th>\n",
       "      <td>0.050102</td>\n",
       "      <td>1.000000</td>\n",
       "      <td>-0.021923</td>\n",
       "    </tr>\n",
       "    <tr>\n",
       "      <th>vAgentId</th>\n",
       "      <td>-0.007327</td>\n",
       "      <td>-0.021923</td>\n",
       "      <td>1.000000</td>\n",
       "    </tr>\n",
       "  </tbody>\n",
       "</table>\n",
       "</div>"
      ],
      "text/plain": [
       "              loss   latency  vAgentId\n",
       "loss      1.000000  0.050102 -0.007327\n",
       "latency   0.050102  1.000000 -0.021923\n",
       "vAgentId -0.007327 -0.021923  1.000000"
      ]
     },
     "execution_count": 18,
     "metadata": {},
     "output_type": "execute_result"
    }
   ],
   "source": [
    "ping_df[['loss', 'latency', 'vAgentId']].corr()"
   ]
  },
  {
   "cell_type": "markdown",
   "id": "7d03b529-8dfb-4674-a39d-88e8c84f9ba6",
   "metadata": {},
   "source": [
    "There seems to have a positive coorelation between latency and loss over 5%, and a insignificant negative co-relation between vagentiD and other columns. "
   ]
  },
  {
   "cell_type": "markdown",
   "id": "20f93129-775e-4ea9-a7d3-7d9b98406b1b",
   "metadata": {},
   "source": [
    "Latency and Loss Distribution"
   ]
  },
  {
   "cell_type": "code",
   "execution_count": 21,
   "id": "8d125d4d-f34b-475e-8dfe-cb77119a18e9",
   "metadata": {},
   "outputs": [
    {
     "data": {
      "image/png": "[encoded data removed]",
      "text/plain": [
       "<Figure size 1000x400 with 1 Axes>"
      ]
     },
     "metadata": {},
     "output_type": "display_data"
    },
    {
     "data": {
      "image/png": "[encoded data removed]",
      "text/plain": [
       "<Figure size 1000x400 with 1 Axes>"
      ]
     },
     "metadata": {},
     "output_type": "display_data"
    }
   ],
   "source": [
    "# Latency\n",
    "plt.figure(figsize=(10, 4))\n",
    "sns.histplot(ping_df['latency'], bins=50, kde=True)\n",
    "plt.title(\"Latency Distribution (Ping)\")\n",
    "plt.xlabel(\"Latency (ms)\")\n",
    "\n",
    "# Loss\n",
    "loss_data = ping_df['loss']\n",
    "non_zero_loss_data = loss_data[loss_data > 0]\n",
    "if not non_zero_loss_data.empty:\n",
    "    plt.figure(figsize=(10, 4))\n",
    "    sns.histplot(non_zero_loss_data, bins=50, kde=False) # Or adjust bins as needed\n",
    "    plt.title(\"Packet Loss Distribution (Ping) - Non-Zero Loss\")\n",
    "    plt.xlabel(\"Loss (%)\") # Assuming loss is a percentage\n",
    "    plt.ylabel(\"Count\")\n",
    "    plt.show()\n",
    "else:\n",
    "    print(\"No non-zero packet loss events to plot.\")"
   ]
  },
  {
   "cell_type": "markdown",
   "id": "12e93a8c-2133-4360-8319-f7cc583832da",
   "metadata": {},
   "source": [
    "Majority of packet loss is near 0, and latency is mostly 0 to 0-50. However there seems to be outliers around 250. "
   ]
  },
  {
   "cell_type": "markdown",
   "id": "402f46e7-1756-43e8-8bf5-b6b9ef1deea1",
   "metadata": {},
   "source": [
    "There is a blip in packet loss around a 100% and this could be due to an extended outage. Let's look at outliers for latency "
   ]
  },
  {
   "cell_type": "markdown",
   "id": "f3573b81-cb49-4704-9af2-618a9bda340b",
   "metadata": {},
   "source": [
    "Spot Outliers for Entire Data sets"
   ]
  },
  {
   "cell_type": "code",
   "execution_count": 25,
   "id": "3e83e4ca-3574-479a-afbc-0f1d903e196b",
   "metadata": {},
   "outputs": [
    {
     "data": {
      "image/png": "[encoded data removed]",
      "text/plain": [
       "<Figure size 1000x400 with 1 Axes>"
      ]
     },
     "metadata": {},
     "output_type": "display_data"
    }
   ],
   "source": [
    "plt.figure(figsize=(10, 4))\n",
    "sns.boxplot(x=ping_df['latency'])\n",
    "plt.title('Latency Outliers')\n",
    "plt.show()"
   ]
  },
  {
   "cell_type": "markdown",
   "id": "b3ae19a1-4c56-4972-b24e-41c545dc7724",
   "metadata": {},
   "source": [
    "Spot Outliers for AgentIDs"
   ]
  },
  {
   "cell_type": "code",
   "execution_count": 27,
   "id": "cac2a1f6-7e4e-4601-abbe-f23d3e060ee8",
   "metadata": {},
   "outputs": [
    {
     "data": {
      "image/png": "[encoded data removed]",
      "text/plain": [
       "<Figure size 1000x400 with 1 Axes>"
      ]
     },
     "metadata": {},
     "output_type": "display_data"
    }
   ],
   "source": [
    "plt.figure(figsize=(10, 4))\n",
    "sns.boxplot(x=ping_df[ping_df['vAgentId'] == 58]['latency'])\n",
    "plt.title('Latency Outliers for Agent 58')\n",
    "plt.show()"
   ]
  },
  {
   "cell_type": "markdown",
   "id": "59796eca-27be-4b0c-ab15-8cd39269b2cc",
   "metadata": {},
   "source": [
    "Spot Outliers for TestID's"
   ]
  },
  {
   "cell_type": "markdown",
   "id": "d9f33348-465a-4daa-a57b-84522fc3cb24",
   "metadata": {},
   "source": [
    "Grouped Metrics for Exploration"
   ]
  },
  {
   "cell_type": "code",
   "execution_count": null,
   "id": "87096f3e-fd8b-4f33-98e5-6b581081a70c",
   "metadata": {},
   "outputs": [],
   "source": [
    "# Mean latency per agent\n",
    "ping_df.groupby(\"vAgentId\")['latency'].mean().sort_values(ascending=False).head()\n",
    "\n",
    "# Loss > 0 occurrences\n",
    "ping_df[ping_df['loss'] > 0].groupby(\"vAgentId\")['loss'].count().sort_values(ascending=False).head()"
   ]
  },
  {
   "cell_type": "markdown",
   "id": "0b5d3acf-94c4-4ad9-b21d-40b12caa01a3",
   "metadata": {},
   "source": [
    "Let’s check for:\n",
    "Duplicate rows\n",
    "Zero or near-zero variance\n",
    "Latency outliers"
   ]
  },
  {
   "cell_type": "code",
   "execution_count": null,
   "id": "5abb9793-2b43-4a2e-8939-69a3c89859df",
   "metadata": {},
   "outputs": [],
   "source": [
    "# Check duplicates\n",
    "duplicates = ping_df.duplicated().sum()\n",
    "print(\"Duplicate rows:\", duplicates)\n",
    "\n",
    "# Remove duplicates if needed\n",
    "ping_df.drop_duplicates(inplace=True)\n",
    "\n",
    "# Remove outliers above 99th percentile for latency\n",
    "latency_threshold = ping_df['latency'].quantile(0.99)\n",
    "ping_df_clean = ping_df[ping_df['latency'] <= latency_threshold]\n",
    "\n",
    "print(\"Rows after removing high latency outliers:\", ping_df_clean.shape[0])"
   ]
  },
  {
   "cell_type": "markdown",
   "id": "aadc47ee-23c8-4255-b000-98e3b75759be",
   "metadata": {},
   "source": [
    "Explore Relationships: Correlation Matrix"
   ]
  },
  {
   "cell_type": "code",
   "execution_count": null,
   "id": "1d6214ec-b6ce-45cb-9142-614549105859",
   "metadata": {},
   "outputs": [],
   "source": [
    "#Correlation matrix between numeric columns (loss, latency) and others.\n",
    "plt.figure(figsize=(6, 4))\n",
    "sns.heatmap(ping_df[['loss', 'latency']].corr(), annot=True, cmap='coolwarm')\n",
    "plt.title(\"Correlation Matrix (Ping Metrics)\")"
   ]
  },
  {
   "cell_type": "markdown",
   "id": "48a05ca2-b236-462c-b2b8-c9c97f875354",
   "metadata": {},
   "source": [
    "Because roundId looks like a Unix timestamp in seconds, converting it will give you actual timestamps for time series analysis."
   ]
  },
  {
   "cell_type": "code",
   "execution_count": null,
   "id": "145d1da4-c445-4ed8-88d2-a742e67ca07d",
   "metadata": {},
   "outputs": [],
   "source": [
    "# Convert roundId to datetime\n",
    "ping_df['timestamp'] = pd.to_datetime(ping_df['roundId'], unit='s')\n",
    "\n",
    "# Check result\n",
    "ping_df[['roundId', 'timestamp']].head()"
   ]
  },
  {
   "cell_type": "code",
   "execution_count": null,
   "id": "a9660bb2-f8d5-41b8-a9d7-a5f85267df55",
   "metadata": {},
   "outputs": [],
   "source": [
    "# Rearrange columns for readability\n",
    "ping_df = ping_df[['timestamp', 'roundId', 'vAgentId', 'testId', 'loss', 'latency']]"
   ]
  },
  {
   "cell_type": "code",
   "execution_count": null,
   "id": "6c3fcb4d-3d09-4a8c-ad71-5f5894e62368",
   "metadata": {},
   "outputs": [],
   "source": [
    "normalize (remove outliers)"
   ]
  },
  {
   "cell_type": "code",
   "execution_count": null,
   "id": "39845e0e-d1f6-4136-9aaf-d32d79119c40",
   "metadata": {},
   "outputs": [],
   "source": [
    "pattern (facts) by dimensions "
   ]
  },
  {
   "cell_type": "code",
   "execution_count": null,
   "id": "6b2aa541-6af1-466c-8d82-c9eaec40b794",
   "metadata": {},
   "outputs": [],
   "source": [
    "what is loss/latency  by round id "
   ]
  },
  {
   "cell_type": "markdown",
   "id": "e7d5d91d-16b8-418b-b653-ff4d3d04d9e4",
   "metadata": {},
   "source": [
    "Time Series Overview"
   ]
  },
  {
   "cell_type": "code",
   "execution_count": null,
   "id": "6f5caec9-d938-4914-905f-437869785b9d",
   "metadata": {},
   "outputs": [],
   "source": [
    "What is loss by vagent id / testId"
   ]
  },
  {
   "cell_type": "code",
   "execution_count": null,
   "id": "89a50ad8-ea61-4890-af36-82166dd2560c",
   "metadata": {},
   "outputs": [],
   "source": []
  },
  {
   "cell_type": "code",
   "execution_count": null,
   "id": "e3a7856a-2085-4bdb-9737-d09470880054",
   "metadata": {},
   "outputs": [],
   "source": [
    "#Plot how loss and latency change over time (using the timestamp).\n",
    "plt.figure(figsize=(14,6))\n",
    "plt.plot(ping_df['timestamp'], ping_df['latency'], marker='.', linestyle='None', alpha=0.3)\n",
    "plt.title('Latency over Time')\n",
    "plt.xlabel('Timestamp')\n",
    "plt.ylabel('Latency (ms)')\n",
    "plt.show()"
   ]
  },
  {
   "cell_type": "markdown",
   "id": "14c53295-6efa-49c0-aa38-69358fbf394c",
   "metadata": {},
   "source": [
    "Aggregate by minute/hour to reduce noise:"
   ]
  },
  {
   "cell_type": "code",
   "execution_count": null,
   "id": "5e848cfe-3473-4e1d-8636-f8ce9890369e",
   "metadata": {},
   "outputs": [],
   "source": [
    "ping_df.set_index('timestamp', inplace=True)\n",
    "latency_hourly = ping_df['latency'].resample('H').mean()\n",
    "\n",
    "latency_hourly.plot(figsize=(14,6))\n",
    "plt.title('Average Latency per Hour')\n",
    "plt.ylabel('Latency (ms)')\n",
    "plt.show()"
   ]
  },
  {
   "cell_type": "markdown",
   "id": "686e6291-92a4-4c82-8c90-69005bf8d091",
   "metadata": {},
   "source": [
    "Time Series Overview"
   ]
  },
  {
   "cell_type": "code",
   "execution_count": null,
   "id": "3109d51a-ca50-4094-8447-992b5fdf25b0",
   "metadata": {},
   "outputs": [],
   "source": [
    "#Line plot for latency over time:\n",
    "plt.figure(figsize=(12, 4))\n",
    "plt.plot(ping_df['timestamp'], ping_df['latency'], color='blue')\n",
    "plt.title('Latency Over Time')\n",
    "plt.xlabel('Timestamp')\n",
    "plt.ylabel('Latency (ms)')\n",
    "plt.tight_layout()\n",
    "plt.show()\n"
   ]
  },
  {
   "cell_type": "markdown",
   "id": "5b37d1f0-1014-4650-88a2-ded24927e589",
   "metadata": {},
   "source": [
    "Grouping and Aggregation"
   ]
  },
  {
   "cell_type": "code",
   "execution_count": null,
   "id": "352f85bd-369a-4240-9f77-319efee464dc",
   "metadata": {},
   "outputs": [],
   "source": [
    "#Group by vAgentId or testId to find patterns or problematic agents/tests.\n",
    "ping_df.groupby('vAgentId')['latency'].mean().sort_values(ascending=False).head(10)\n",
    "ping_df.groupby('testId')['loss'].mean().sort_values(ascending=False).head(10)"
   ]
  },
  {
   "cell_type": "code",
   "execution_count": null,
   "id": "d1f49d83-bc48-4e37-9fbf-5595b3fb486d",
   "metadata": {},
   "outputs": [],
   "source": [
    "#Line plot for loss:\n",
    "plt.figure(figsize=(12, 3))\n",
    "plt.plot(ping_df['timestamp'], ping_df['loss'], color='red')\n",
    "plt.title('Loss Over Time')\n",
    "plt.xlabel('Timestamp')\n",
    "plt.ylabel('Loss (%)')\n",
    "plt.tight_layout()\n",
    "plt.show()"
   ]
  },
  {
   "cell_type": "markdown",
   "id": "c15a0e24-9b7d-47fa-b502-ea49bbe0edaa",
   "metadata": {},
   "source": [
    "Anomaly Detection"
   ]
  },
  {
   "cell_type": "code",
   "execution_count": null,
   "id": "8a7e47f2-9bf3-4f2d-9676-6dc7970f6428",
   "metadata": {},
   "outputs": [],
   "source": [
    "# Introduce simple anomaly detection techniques (e.g., threshold-based or rolling statistics) on latency or loss to flag potential outages.\n",
    "ping_df['latency_rolling_mean'] = ping_df['latency'].rolling(window=60).mean()\n",
    "ping_df['latency_rolling_std'] = ping_df['latency'].rolling(window=60).std()\n",
    "\n",
    "# Define anomaly if latency is > rolling mean + 3*std\n",
    "ping_df['latency_anomaly'] = ping_df['latency'] > (ping_df['latency_rolling_mean'] + 3 * ping_df['latency_rolling_std'])\n",
    "\n",
    "# Visualize anomalies\n",
    "plt.figure(figsize=(14,6))\n",
    "plt.plot(ping_df.index, ping_df['latency'], label='Latency')\n",
    "plt.scatter(ping_df.index[ping_df['latency_anomaly']], ping_df['latency'][ping_df['latency_anomaly']], color='red', label='Anomaly')\n",
    "plt.legend()\n",
    "plt.show()"
   ]
  },
  {
   "cell_type": "markdown",
   "id": "67ed44d7-5976-4147-84e6-4695695b9be0",
   "metadata": {},
   "source": [
    " Segmented Analysis"
   ]
  },
  {
   "cell_type": "code",
   "execution_count": null,
   "id": "5924be92-89af-40c6-9c59-104b99cfe2da",
   "metadata": {},
   "outputs": [],
   "source": [
    "#by agent\n",
    "agent_latency = ping_df.groupby('vAgentId')['latency'].mean().sort_values(ascending=False)\n",
    "agent_latency.head(10).plot(kind='bar', figsize=(10, 4), title='Top 10 Agents by Avg Latency')\n",
    "plt.ylabel('Latency')\n",
    "plt.show()"
   ]
  },
  {
   "cell_type": "code",
   "execution_count": null,
   "id": "2d051f2c-ea1e-4053-9baf-21970f8f879e",
   "metadata": {},
   "outputs": [],
   "source": [
    "#Let's do Similar analysis By Test ID\n",
    "testId_latency = ping_df.groupby('testId')['latency'].mean().sort_values(ascending=False)\n",
    "testId_latency.head(10).plot(kind='bar', figsize=(10, 4), title='Top 10 Test ID by Avg Latency')\n",
    "plt.ylabel('Latency')\n",
    "plt.show()"
   ]
  },
  {
   "cell_type": "code",
   "execution_count": null,
   "id": "c181ea84-c70c-4498-9cff-18ec6daf7295",
   "metadata": {},
   "outputs": [],
   "source": []
  },
  {
   "cell_type": "markdown",
   "id": "239402f1-87e0-4b4d-8540-94abad55417b",
   "metadata": {},
   "source": [
    "Now Lets's Combine Ping Multiple CSV's into one Ping file, Data for 5 Spotify tests (April 1st - 25th). Outage happened on April 16th. There are five files for each PING. Each file has five days of data: first file has data for 1st-5th, second file has data for 6th-10 and so on. "
   ]
  }
 ],
 "metadata": {
  "kernelspec": {
   "display_name": "Python [conda env:base] *",
   "language": "python",
   "name": "conda-base-py"
  },
  "language_info": {
   "codemirror_mode": {
    "name": "ipython",
    "version": 3
   },
   "file_extension": ".py",
   "mimetype": "text/x-python",
   "name": "python",
   "nbconvert_exporter": "python",
   "pygments_lexer": "ipython3",
   "version": "3.12.7"
  }
 },
 "nbformat": 4,
 "nbformat_minor": 5
}
